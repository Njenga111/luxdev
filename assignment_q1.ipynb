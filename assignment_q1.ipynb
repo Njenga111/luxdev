{
 "cells": [
  {
   "cell_type": "code",
   "execution_count": 5,
   "id": "b3598bad",
   "metadata": {},
   "outputs": [],
   "source": [
    "import csv\n",
    "\n",
    "input_file = 'MOCK_DATA.csv'\n",
    "output_file = 'filtered_output.csv'\n",
    "filter_column = 'email'  # Make sure this matches your CSV column exactly\n",
    "\n",
    "with open(input_file, mode='r', newline='') as infile, \\\n",
    "     open(output_file, mode='w', newline='') as outfile:\n",
    "\n",
    "    reader = csv.DictReader(infile)\n",
    "    writer = csv.DictWriter(outfile, fieldnames=reader.fieldnames)\n",
    "    writer.writeheader()\n",
    "\n",
    "    for row in reader:\n",
    "        value = row.get(filter_column)\n",
    "\n",
    "        try:\n",
    "            if value is not None and float(value) > 100:\n",
    "                writer.writerow(row)\n",
    "        except ValueError:\n",
    "            continue\n"
   ]
  },
  {
   "cell_type": "code",
   "execution_count": null,
   "id": "1ff23ee6",
   "metadata": {},
   "outputs": [],
   "source": []
  },
  {
   "cell_type": "code",
   "execution_count": null,
   "id": "bd96ae03",
   "metadata": {},
   "outputs": [],
   "source": []
  }
 ],
 "metadata": {
  "kernelspec": {
   "display_name": "Python 3",
   "language": "python",
   "name": "python3"
  },
  "language_info": {
   "codemirror_mode": {
    "name": "ipython",
    "version": 3
   },
   "file_extension": ".py",
   "mimetype": "text/x-python",
   "name": "python",
   "nbconvert_exporter": "python",
   "pygments_lexer": "ipython3",
   "version": "3.13.3"
  }
 },
 "nbformat": 4,
 "nbformat_minor": 5
}
