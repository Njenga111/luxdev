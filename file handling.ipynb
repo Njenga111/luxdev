{
 "cells": [
  {
   "cell_type": "code",
   "execution_count": 2,
   "id": "3a1068c6",
   "metadata": {},
   "outputs": [],
   "source": [
    "file = open(\"MOCK_DATA.csv\", \"r\")\n",
    "content = file.read()\n",
    "content\n",
    "file.close()"
   ]
  },
  {
   "cell_type": "code",
   "execution_count": 8,
   "id": "3f66f991",
   "metadata": {},
   "outputs": [],
   "source": [
    "with open (\"MOCK_DATA.csv\" , \"a\") as file:\n",
    "    file.write(\"/n New line added\")"
   ]
  },
  {
   "cell_type": "code",
   "execution_count": null,
   "id": "60e6a21c",
   "metadata": {},
   "outputs": [
    {
     "data": {
      "text/plain": [
       "[]"
      ]
     },
     "execution_count": 7,
     "metadata": {},
     "output_type": "execute_result"
    }
   ],
   "source": [
    "with open (\"MOCK_DATA.csv\" , \"r\") as file:\n",
    "    content = file.read()\n",
    "    # assignment is read lines\n",
    "    lines = file.readlines()\n",
    "lines"
   ]
  }
 ],
 "metadata": {
  "kernelspec": {
   "display_name": "Python 3",
   "language": "python",
   "name": "python3"
  },
  "language_info": {
   "codemirror_mode": {
    "name": "ipython",
    "version": 3
   },
   "file_extension": ".py",
   "mimetype": "text/x-python",
   "name": "python",
   "nbconvert_exporter": "python",
   "pygments_lexer": "ipython3",
   "version": "3.13.3"
  }
 },
 "nbformat": 4,
 "nbformat_minor": 5
}
